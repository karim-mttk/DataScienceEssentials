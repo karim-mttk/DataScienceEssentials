{
 "cells": [
  {
   "cell_type": "markdown",
   "id": "39c877c9",
   "metadata": {},
   "source": [
    "# Project - Statistical Performance Indicators (SPI)"
   ]
  },
  {
   "cell_type": "markdown",
   "id": "26869a35",
   "metadata": {},
   "source": [
    "![Data Science Workflow](img/ds-workflow.png)"
   ]
  },
  {
   "cell_type": "markdown",
   "id": "27e88ef1",
   "metadata": {},
   "source": [
    "## Goal of Project\n",
    "- What can Statistical Performance Indicators (SPI) tells us?\n",
    "- Investigate regional SPI score\n",
    "- SPI correlation with GDP per capita"
   ]
  },
  {
   "cell_type": "markdown",
   "id": "77f362c4",
   "metadata": {},
   "source": [
    "## Step 1: Acquire\n",
    "- Explore problem\n",
    "- Identify data\n",
    "- Import data"
   ]
  },
  {
   "attachments": {},
   "cell_type": "markdown",
   "id": "c4592cb1",
   "metadata": {},
   "source": [
    "### Step 1.a: Explore the problem\n",
    "- [Read about the SPI on World Bank](https://www.worldbank.org/en/programs/statistical-performance-indicators/about-spi)"
   ]
  },
  {
   "attachments": {},
   "cell_type": "markdown",
   "id": "1ed32ef6",
   "metadata": {},
   "source": [
    "### Step 1.b: Identify and download data\n",
    "- The World bank data for SPI and GDP per capita:\n",
    "        - [SPI](https://data.worldbank.org/indicator/IQ.SPI.OVRL)\n",
    "        - [GDP per capita](https://data.worldbank.org/indicator/NY.GDP.PCAP.CD)"
   ]
  },
  {
   "attachments": {},
   "cell_type": "markdown",
   "id": "6f8cbbcb",
   "metadata": {},
   "source": [
    "### Step 1.c: Import libraries"
   ]
  },
  {
   "cell_type": "code",
   "execution_count": 1,
   "id": "baf45728",
   "metadata": {},
   "outputs": [],
   "source": [
    "import pandas as pd\n",
    "import matplotlib.pyplot as plt\n",
    "%matplotlib inline"
   ]
  },
  {
   "attachments": {},
   "cell_type": "markdown",
   "id": "b5f9a799",
   "metadata": {},
   "source": [
    "### Step 1.d: Read SPI data"
   ]
  },
  {
   "cell_type": "code",
   "execution_count": 2,
   "id": "aed078f9",
   "metadata": {},
   "outputs": [],
   "source": [
    "spi = pd.read_csv('files/SPI/API_IQ.SPI.OVRL_DS2_en_csv_v2_3186678.csv', skiprows=4)\n",
    "meta = pd.read_csv('files/SPI/Metadata_Country_API_IQ.SPI.OVRL_DS2_en_csv_v2_3186678.csv')\n",
    "gdp = pd.read_csv('files/SPI/API_NY.GDP.PCAP.CD_DS2_en_csv_v2_3159040.csv', skiprows = 4)"
   ]
  },
  {
   "attachments": {},
   "cell_type": "markdown",
   "id": "a2377dd7",
   "metadata": {},
   "source": [
    "### Step 1.e: Inspect the data"
   ]
  },
  {
   "cell_type": "code",
   "execution_count": 3,
   "id": "20bfb645",
   "metadata": {},
   "outputs": [
    {
     "data": {
      "text/html": [
       "<div>\n",
       "<style scoped>\n",
       "    .dataframe tbody tr th:only-of-type {\n",
       "        vertical-align: middle;\n",
       "    }\n",
       "\n",
       "    .dataframe tbody tr th {\n",
       "        vertical-align: top;\n",
       "    }\n",
       "\n",
       "    .dataframe thead th {\n",
       "        text-align: right;\n",
       "    }\n",
       "</style>\n",
       "<table border=\"1\" class=\"dataframe\">\n",
       "  <thead>\n",
       "    <tr style=\"text-align: right;\">\n",
       "      <th></th>\n",
       "      <th>Country Name</th>\n",
       "      <th>Country Code</th>\n",
       "      <th>Indicator Name</th>\n",
       "      <th>Indicator Code</th>\n",
       "      <th>1960</th>\n",
       "      <th>1961</th>\n",
       "      <th>1962</th>\n",
       "      <th>1963</th>\n",
       "      <th>1964</th>\n",
       "      <th>1965</th>\n",
       "      <th>...</th>\n",
       "      <th>2012</th>\n",
       "      <th>2013</th>\n",
       "      <th>2014</th>\n",
       "      <th>2015</th>\n",
       "      <th>2016</th>\n",
       "      <th>2017</th>\n",
       "      <th>2018</th>\n",
       "      <th>2019</th>\n",
       "      <th>2020</th>\n",
       "      <th>Unnamed: 65</th>\n",
       "    </tr>\n",
       "  </thead>\n",
       "  <tbody>\n",
       "    <tr>\n",
       "      <th>0</th>\n",
       "      <td>Aruba</td>\n",
       "      <td>ABW</td>\n",
       "      <td>Statistical performance indicators (SPI): Over...</td>\n",
       "      <td>IQ.SPI.OVRL</td>\n",
       "      <td>NaN</td>\n",
       "      <td>NaN</td>\n",
       "      <td>NaN</td>\n",
       "      <td>NaN</td>\n",
       "      <td>NaN</td>\n",
       "      <td>NaN</td>\n",
       "      <td>...</td>\n",
       "      <td>NaN</td>\n",
       "      <td>NaN</td>\n",
       "      <td>NaN</td>\n",
       "      <td>NaN</td>\n",
       "      <td>NaN</td>\n",
       "      <td>NaN</td>\n",
       "      <td>NaN</td>\n",
       "      <td>NaN</td>\n",
       "      <td>NaN</td>\n",
       "      <td>NaN</td>\n",
       "    </tr>\n",
       "    <tr>\n",
       "      <th>1</th>\n",
       "      <td>Africa Eastern and Southern</td>\n",
       "      <td>AFE</td>\n",
       "      <td>Statistical performance indicators (SPI): Over...</td>\n",
       "      <td>IQ.SPI.OVRL</td>\n",
       "      <td>NaN</td>\n",
       "      <td>NaN</td>\n",
       "      <td>NaN</td>\n",
       "      <td>NaN</td>\n",
       "      <td>NaN</td>\n",
       "      <td>NaN</td>\n",
       "      <td>...</td>\n",
       "      <td>NaN</td>\n",
       "      <td>NaN</td>\n",
       "      <td>NaN</td>\n",
       "      <td>NaN</td>\n",
       "      <td>NaN</td>\n",
       "      <td>NaN</td>\n",
       "      <td>NaN</td>\n",
       "      <td>NaN</td>\n",
       "      <td>NaN</td>\n",
       "      <td>NaN</td>\n",
       "    </tr>\n",
       "    <tr>\n",
       "      <th>2</th>\n",
       "      <td>Afghanistan</td>\n",
       "      <td>AFG</td>\n",
       "      <td>Statistical performance indicators (SPI): Over...</td>\n",
       "      <td>IQ.SPI.OVRL</td>\n",
       "      <td>NaN</td>\n",
       "      <td>NaN</td>\n",
       "      <td>NaN</td>\n",
       "      <td>NaN</td>\n",
       "      <td>NaN</td>\n",
       "      <td>NaN</td>\n",
       "      <td>...</td>\n",
       "      <td>NaN</td>\n",
       "      <td>NaN</td>\n",
       "      <td>NaN</td>\n",
       "      <td>NaN</td>\n",
       "      <td>37.222917</td>\n",
       "      <td>42.577917</td>\n",
       "      <td>49.845000</td>\n",
       "      <td>49.756250</td>\n",
       "      <td>NaN</td>\n",
       "      <td>NaN</td>\n",
       "    </tr>\n",
       "    <tr>\n",
       "      <th>3</th>\n",
       "      <td>Africa Western and Central</td>\n",
       "      <td>AFW</td>\n",
       "      <td>Statistical performance indicators (SPI): Over...</td>\n",
       "      <td>IQ.SPI.OVRL</td>\n",
       "      <td>NaN</td>\n",
       "      <td>NaN</td>\n",
       "      <td>NaN</td>\n",
       "      <td>NaN</td>\n",
       "      <td>NaN</td>\n",
       "      <td>NaN</td>\n",
       "      <td>...</td>\n",
       "      <td>NaN</td>\n",
       "      <td>NaN</td>\n",
       "      <td>NaN</td>\n",
       "      <td>NaN</td>\n",
       "      <td>NaN</td>\n",
       "      <td>NaN</td>\n",
       "      <td>NaN</td>\n",
       "      <td>NaN</td>\n",
       "      <td>NaN</td>\n",
       "      <td>NaN</td>\n",
       "    </tr>\n",
       "    <tr>\n",
       "      <th>4</th>\n",
       "      <td>Angola</td>\n",
       "      <td>AGO</td>\n",
       "      <td>Statistical performance indicators (SPI): Over...</td>\n",
       "      <td>IQ.SPI.OVRL</td>\n",
       "      <td>NaN</td>\n",
       "      <td>NaN</td>\n",
       "      <td>NaN</td>\n",
       "      <td>NaN</td>\n",
       "      <td>NaN</td>\n",
       "      <td>NaN</td>\n",
       "      <td>...</td>\n",
       "      <td>NaN</td>\n",
       "      <td>NaN</td>\n",
       "      <td>NaN</td>\n",
       "      <td>NaN</td>\n",
       "      <td>43.735417</td>\n",
       "      <td>46.689583</td>\n",
       "      <td>55.232083</td>\n",
       "      <td>54.945833</td>\n",
       "      <td>NaN</td>\n",
       "      <td>NaN</td>\n",
       "    </tr>\n",
       "  </tbody>\n",
       "</table>\n",
       "<p>5 rows × 66 columns</p>\n",
       "</div>"
      ],
      "text/plain": [
       "                  Country Name Country Code  \\\n",
       "0                        Aruba          ABW   \n",
       "1  Africa Eastern and Southern          AFE   \n",
       "2                  Afghanistan          AFG   \n",
       "3   Africa Western and Central          AFW   \n",
       "4                       Angola          AGO   \n",
       "\n",
       "                                      Indicator Name Indicator Code  1960  \\\n",
       "0  Statistical performance indicators (SPI): Over...    IQ.SPI.OVRL   NaN   \n",
       "1  Statistical performance indicators (SPI): Over...    IQ.SPI.OVRL   NaN   \n",
       "2  Statistical performance indicators (SPI): Over...    IQ.SPI.OVRL   NaN   \n",
       "3  Statistical performance indicators (SPI): Over...    IQ.SPI.OVRL   NaN   \n",
       "4  Statistical performance indicators (SPI): Over...    IQ.SPI.OVRL   NaN   \n",
       "\n",
       "   1961  1962  1963  1964  1965  ...  2012  2013  2014  2015       2016  \\\n",
       "0   NaN   NaN   NaN   NaN   NaN  ...   NaN   NaN   NaN   NaN        NaN   \n",
       "1   NaN   NaN   NaN   NaN   NaN  ...   NaN   NaN   NaN   NaN        NaN   \n",
       "2   NaN   NaN   NaN   NaN   NaN  ...   NaN   NaN   NaN   NaN  37.222917   \n",
       "3   NaN   NaN   NaN   NaN   NaN  ...   NaN   NaN   NaN   NaN        NaN   \n",
       "4   NaN   NaN   NaN   NaN   NaN  ...   NaN   NaN   NaN   NaN  43.735417   \n",
       "\n",
       "        2017       2018       2019  2020  Unnamed: 65  \n",
       "0        NaN        NaN        NaN   NaN          NaN  \n",
       "1        NaN        NaN        NaN   NaN          NaN  \n",
       "2  42.577917  49.845000  49.756250   NaN          NaN  \n",
       "3        NaN        NaN        NaN   NaN          NaN  \n",
       "4  46.689583  55.232083  54.945833   NaN          NaN  \n",
       "\n",
       "[5 rows x 66 columns]"
      ]
     },
     "execution_count": 3,
     "metadata": {},
     "output_type": "execute_result"
    }
   ],
   "source": [
    "spi.head()"
   ]
  },
  {
   "cell_type": "code",
   "execution_count": 4,
   "id": "de553a1b",
   "metadata": {},
   "outputs": [
    {
     "data": {
      "text/html": [
       "<div>\n",
       "<style scoped>\n",
       "    .dataframe tbody tr th:only-of-type {\n",
       "        vertical-align: middle;\n",
       "    }\n",
       "\n",
       "    .dataframe tbody tr th {\n",
       "        vertical-align: top;\n",
       "    }\n",
       "\n",
       "    .dataframe thead th {\n",
       "        text-align: right;\n",
       "    }\n",
       "</style>\n",
       "<table border=\"1\" class=\"dataframe\">\n",
       "  <thead>\n",
       "    <tr style=\"text-align: right;\">\n",
       "      <th></th>\n",
       "      <th>Country Code</th>\n",
       "      <th>Region</th>\n",
       "      <th>IncomeGroup</th>\n",
       "      <th>SpecialNotes</th>\n",
       "      <th>TableName</th>\n",
       "      <th>Unnamed: 5</th>\n",
       "    </tr>\n",
       "  </thead>\n",
       "  <tbody>\n",
       "    <tr>\n",
       "      <th>0</th>\n",
       "      <td>ABW</td>\n",
       "      <td>Latin America &amp; Caribbean</td>\n",
       "      <td>High income</td>\n",
       "      <td>NaN</td>\n",
       "      <td>Aruba</td>\n",
       "      <td>NaN</td>\n",
       "    </tr>\n",
       "    <tr>\n",
       "      <th>1</th>\n",
       "      <td>AFE</td>\n",
       "      <td>NaN</td>\n",
       "      <td>NaN</td>\n",
       "      <td>26 countries, stretching from the Red Sea in t...</td>\n",
       "      <td>Africa Eastern and Southern</td>\n",
       "      <td>NaN</td>\n",
       "    </tr>\n",
       "    <tr>\n",
       "      <th>2</th>\n",
       "      <td>AFG</td>\n",
       "      <td>South Asia</td>\n",
       "      <td>Low income</td>\n",
       "      <td>Fiscal year end: March 20; reporting period fo...</td>\n",
       "      <td>Afghanistan</td>\n",
       "      <td>NaN</td>\n",
       "    </tr>\n",
       "    <tr>\n",
       "      <th>3</th>\n",
       "      <td>AFW</td>\n",
       "      <td>NaN</td>\n",
       "      <td>NaN</td>\n",
       "      <td>22 countries, stretching from the westernmost ...</td>\n",
       "      <td>Africa Western and Central</td>\n",
       "      <td>NaN</td>\n",
       "    </tr>\n",
       "    <tr>\n",
       "      <th>4</th>\n",
       "      <td>AGO</td>\n",
       "      <td>Sub-Saharan Africa</td>\n",
       "      <td>Lower middle income</td>\n",
       "      <td>NaN</td>\n",
       "      <td>Angola</td>\n",
       "      <td>NaN</td>\n",
       "    </tr>\n",
       "  </tbody>\n",
       "</table>\n",
       "</div>"
      ],
      "text/plain": [
       "  Country Code                     Region          IncomeGroup  \\\n",
       "0          ABW  Latin America & Caribbean          High income   \n",
       "1          AFE                        NaN                  NaN   \n",
       "2          AFG                 South Asia           Low income   \n",
       "3          AFW                        NaN                  NaN   \n",
       "4          AGO         Sub-Saharan Africa  Lower middle income   \n",
       "\n",
       "                                        SpecialNotes  \\\n",
       "0                                                NaN   \n",
       "1  26 countries, stretching from the Red Sea in t...   \n",
       "2  Fiscal year end: March 20; reporting period fo...   \n",
       "3  22 countries, stretching from the westernmost ...   \n",
       "4                                                NaN   \n",
       "\n",
       "                     TableName  Unnamed: 5  \n",
       "0                        Aruba         NaN  \n",
       "1  Africa Eastern and Southern         NaN  \n",
       "2                  Afghanistan         NaN  \n",
       "3   Africa Western and Central         NaN  \n",
       "4                       Angola         NaN  "
      ]
     },
     "execution_count": 4,
     "metadata": {},
     "output_type": "execute_result"
    }
   ],
   "source": [
    "meta.head()\n"
   ]
  },
  {
   "cell_type": "code",
   "execution_count": 5,
   "id": "2107d4e3",
   "metadata": {},
   "outputs": [
    {
     "data": {
      "text/html": [
       "<div>\n",
       "<style scoped>\n",
       "    .dataframe tbody tr th:only-of-type {\n",
       "        vertical-align: middle;\n",
       "    }\n",
       "\n",
       "    .dataframe tbody tr th {\n",
       "        vertical-align: top;\n",
       "    }\n",
       "\n",
       "    .dataframe thead th {\n",
       "        text-align: right;\n",
       "    }\n",
       "</style>\n",
       "<table border=\"1\" class=\"dataframe\">\n",
       "  <thead>\n",
       "    <tr style=\"text-align: right;\">\n",
       "      <th></th>\n",
       "      <th>Country Name</th>\n",
       "      <th>Country Code</th>\n",
       "      <th>Indicator Name</th>\n",
       "      <th>Indicator Code</th>\n",
       "      <th>1960</th>\n",
       "      <th>1961</th>\n",
       "      <th>1962</th>\n",
       "      <th>1963</th>\n",
       "      <th>1964</th>\n",
       "      <th>1965</th>\n",
       "      <th>...</th>\n",
       "      <th>2012</th>\n",
       "      <th>2013</th>\n",
       "      <th>2014</th>\n",
       "      <th>2015</th>\n",
       "      <th>2016</th>\n",
       "      <th>2017</th>\n",
       "      <th>2018</th>\n",
       "      <th>2019</th>\n",
       "      <th>2020</th>\n",
       "      <th>Unnamed: 65</th>\n",
       "    </tr>\n",
       "  </thead>\n",
       "  <tbody>\n",
       "    <tr>\n",
       "      <th>0</th>\n",
       "      <td>Aruba</td>\n",
       "      <td>ABW</td>\n",
       "      <td>GDP per capita (current US$)</td>\n",
       "      <td>NY.GDP.PCAP.CD</td>\n",
       "      <td>NaN</td>\n",
       "      <td>NaN</td>\n",
       "      <td>NaN</td>\n",
       "      <td>NaN</td>\n",
       "      <td>NaN</td>\n",
       "      <td>NaN</td>\n",
       "      <td>...</td>\n",
       "      <td>24712.493263</td>\n",
       "      <td>26441.619936</td>\n",
       "      <td>26893.011506</td>\n",
       "      <td>28396.908423</td>\n",
       "      <td>28452.170615</td>\n",
       "      <td>29350.805019</td>\n",
       "      <td>30253.279358</td>\n",
       "      <td>NaN</td>\n",
       "      <td>NaN</td>\n",
       "      <td>NaN</td>\n",
       "    </tr>\n",
       "    <tr>\n",
       "      <th>1</th>\n",
       "      <td>Africa Eastern and Southern</td>\n",
       "      <td>AFE</td>\n",
       "      <td>GDP per capita (current US$)</td>\n",
       "      <td>NY.GDP.PCAP.CD</td>\n",
       "      <td>147.836769</td>\n",
       "      <td>147.238537</td>\n",
       "      <td>156.426780</td>\n",
       "      <td>182.521139</td>\n",
       "      <td>162.594548</td>\n",
       "      <td>180.489043</td>\n",
       "      <td>...</td>\n",
       "      <td>1672.363658</td>\n",
       "      <td>1653.188436</td>\n",
       "      <td>1658.650062</td>\n",
       "      <td>1507.800256</td>\n",
       "      <td>1404.953164</td>\n",
       "      <td>1540.232473</td>\n",
       "      <td>1534.171767</td>\n",
       "      <td>1485.307425</td>\n",
       "      <td>1330.140232</td>\n",
       "      <td>NaN</td>\n",
       "    </tr>\n",
       "    <tr>\n",
       "      <th>2</th>\n",
       "      <td>Afghanistan</td>\n",
       "      <td>AFG</td>\n",
       "      <td>GDP per capita (current US$)</td>\n",
       "      <td>NY.GDP.PCAP.CD</td>\n",
       "      <td>59.773234</td>\n",
       "      <td>59.860900</td>\n",
       "      <td>58.458009</td>\n",
       "      <td>78.706429</td>\n",
       "      <td>82.095307</td>\n",
       "      <td>101.108325</td>\n",
       "      <td>...</td>\n",
       "      <td>641.871438</td>\n",
       "      <td>637.165464</td>\n",
       "      <td>613.856505</td>\n",
       "      <td>578.466353</td>\n",
       "      <td>509.220100</td>\n",
       "      <td>519.888913</td>\n",
       "      <td>493.756581</td>\n",
       "      <td>507.103392</td>\n",
       "      <td>508.808409</td>\n",
       "      <td>NaN</td>\n",
       "    </tr>\n",
       "    <tr>\n",
       "      <th>3</th>\n",
       "      <td>Africa Western and Central</td>\n",
       "      <td>AFW</td>\n",
       "      <td>GDP per capita (current US$)</td>\n",
       "      <td>NY.GDP.PCAP.CD</td>\n",
       "      <td>107.963779</td>\n",
       "      <td>113.114697</td>\n",
       "      <td>118.865837</td>\n",
       "      <td>123.478967</td>\n",
       "      <td>131.892939</td>\n",
       "      <td>138.566819</td>\n",
       "      <td>...</td>\n",
       "      <td>1936.390962</td>\n",
       "      <td>2123.392433</td>\n",
       "      <td>2166.743309</td>\n",
       "      <td>1886.248158</td>\n",
       "      <td>1666.422406</td>\n",
       "      <td>1606.978332</td>\n",
       "      <td>1695.959215</td>\n",
       "      <td>1772.339155</td>\n",
       "      <td>1714.426800</td>\n",
       "      <td>NaN</td>\n",
       "    </tr>\n",
       "    <tr>\n",
       "      <th>4</th>\n",
       "      <td>Angola</td>\n",
       "      <td>AGO</td>\n",
       "      <td>GDP per capita (current US$)</td>\n",
       "      <td>NY.GDP.PCAP.CD</td>\n",
       "      <td>NaN</td>\n",
       "      <td>NaN</td>\n",
       "      <td>NaN</td>\n",
       "      <td>NaN</td>\n",
       "      <td>NaN</td>\n",
       "      <td>NaN</td>\n",
       "      <td>...</td>\n",
       "      <td>5100.097027</td>\n",
       "      <td>5254.881126</td>\n",
       "      <td>5408.411700</td>\n",
       "      <td>4166.979833</td>\n",
       "      <td>3506.073128</td>\n",
       "      <td>4095.810057</td>\n",
       "      <td>3289.643995</td>\n",
       "      <td>2809.626088</td>\n",
       "      <td>1895.770869</td>\n",
       "      <td>NaN</td>\n",
       "    </tr>\n",
       "  </tbody>\n",
       "</table>\n",
       "<p>5 rows × 66 columns</p>\n",
       "</div>"
      ],
      "text/plain": [
       "                  Country Name Country Code                Indicator Name  \\\n",
       "0                        Aruba          ABW  GDP per capita (current US$)   \n",
       "1  Africa Eastern and Southern          AFE  GDP per capita (current US$)   \n",
       "2                  Afghanistan          AFG  GDP per capita (current US$)   \n",
       "3   Africa Western and Central          AFW  GDP per capita (current US$)   \n",
       "4                       Angola          AGO  GDP per capita (current US$)   \n",
       "\n",
       "   Indicator Code        1960        1961        1962        1963        1964  \\\n",
       "0  NY.GDP.PCAP.CD         NaN         NaN         NaN         NaN         NaN   \n",
       "1  NY.GDP.PCAP.CD  147.836769  147.238537  156.426780  182.521139  162.594548   \n",
       "2  NY.GDP.PCAP.CD   59.773234   59.860900   58.458009   78.706429   82.095307   \n",
       "3  NY.GDP.PCAP.CD  107.963779  113.114697  118.865837  123.478967  131.892939   \n",
       "4  NY.GDP.PCAP.CD         NaN         NaN         NaN         NaN         NaN   \n",
       "\n",
       "         1965  ...          2012          2013          2014          2015  \\\n",
       "0         NaN  ...  24712.493263  26441.619936  26893.011506  28396.908423   \n",
       "1  180.489043  ...   1672.363658   1653.188436   1658.650062   1507.800256   \n",
       "2  101.108325  ...    641.871438    637.165464    613.856505    578.466353   \n",
       "3  138.566819  ...   1936.390962   2123.392433   2166.743309   1886.248158   \n",
       "4         NaN  ...   5100.097027   5254.881126   5408.411700   4166.979833   \n",
       "\n",
       "           2016          2017          2018         2019         2020  \\\n",
       "0  28452.170615  29350.805019  30253.279358          NaN          NaN   \n",
       "1   1404.953164   1540.232473   1534.171767  1485.307425  1330.140232   \n",
       "2    509.220100    519.888913    493.756581   507.103392   508.808409   \n",
       "3   1666.422406   1606.978332   1695.959215  1772.339155  1714.426800   \n",
       "4   3506.073128   4095.810057   3289.643995  2809.626088  1895.770869   \n",
       "\n",
       "   Unnamed: 65  \n",
       "0          NaN  \n",
       "1          NaN  \n",
       "2          NaN  \n",
       "3          NaN  \n",
       "4          NaN  \n",
       "\n",
       "[5 rows x 66 columns]"
      ]
     },
     "execution_count": 5,
     "metadata": {},
     "output_type": "execute_result"
    }
   ],
   "source": [
    "gdp.head()"
   ]
  },
  {
   "cell_type": "markdown",
   "id": "3bec949d",
   "metadata": {},
   "source": [
    "## Step 2: Prepare\n",
    "- Explore data\n",
    "- Visualize ideas\n",
    "- Cleaning data"
   ]
  },
  {
   "attachments": {},
   "cell_type": "markdown",
   "id": "39cdb186",
   "metadata": {},
   "source": [
    "### Step 2.a: Remove columns\n"
   ]
  },
  {
   "cell_type": "code",
   "execution_count": 6,
   "id": "0cf4e75f",
   "metadata": {},
   "outputs": [
    {
     "data": {
      "text/html": [
       "<div>\n",
       "<style scoped>\n",
       "    .dataframe tbody tr th:only-of-type {\n",
       "        vertical-align: middle;\n",
       "    }\n",
       "\n",
       "    .dataframe tbody tr th {\n",
       "        vertical-align: top;\n",
       "    }\n",
       "\n",
       "    .dataframe thead th {\n",
       "        text-align: right;\n",
       "    }\n",
       "</style>\n",
       "<table border=\"1\" class=\"dataframe\">\n",
       "  <thead>\n",
       "    <tr style=\"text-align: right;\">\n",
       "      <th></th>\n",
       "      <th>Country Code</th>\n",
       "      <th>2019</th>\n",
       "    </tr>\n",
       "  </thead>\n",
       "  <tbody>\n",
       "    <tr>\n",
       "      <th>0</th>\n",
       "      <td>ABW</td>\n",
       "      <td>NaN</td>\n",
       "    </tr>\n",
       "    <tr>\n",
       "      <th>1</th>\n",
       "      <td>AFE</td>\n",
       "      <td>NaN</td>\n",
       "    </tr>\n",
       "    <tr>\n",
       "      <th>2</th>\n",
       "      <td>AFG</td>\n",
       "      <td>49.756250</td>\n",
       "    </tr>\n",
       "    <tr>\n",
       "      <th>3</th>\n",
       "      <td>AFW</td>\n",
       "      <td>NaN</td>\n",
       "    </tr>\n",
       "    <tr>\n",
       "      <th>4</th>\n",
       "      <td>AGO</td>\n",
       "      <td>54.945833</td>\n",
       "    </tr>\n",
       "  </tbody>\n",
       "</table>\n",
       "</div>"
      ],
      "text/plain": [
       "  Country Code       2019\n",
       "0          ABW        NaN\n",
       "1          AFE        NaN\n",
       "2          AFG  49.756250\n",
       "3          AFW        NaN\n",
       "4          AGO  54.945833"
      ]
     },
     "execution_count": 6,
     "metadata": {},
     "output_type": "execute_result"
    }
   ],
   "source": [
    "spi = spi.loc[:, ['Country Code', '2019']]\n",
    "spi.head()"
   ]
  },
  {
   "cell_type": "code",
   "execution_count": 7,
   "id": "e0bc9b2a",
   "metadata": {},
   "outputs": [
    {
     "data": {
      "text/html": [
       "<div>\n",
       "<style scoped>\n",
       "    .dataframe tbody tr th:only-of-type {\n",
       "        vertical-align: middle;\n",
       "    }\n",
       "\n",
       "    .dataframe tbody tr th {\n",
       "        vertical-align: top;\n",
       "    }\n",
       "\n",
       "    .dataframe thead th {\n",
       "        text-align: right;\n",
       "    }\n",
       "</style>\n",
       "<table border=\"1\" class=\"dataframe\">\n",
       "  <thead>\n",
       "    <tr style=\"text-align: right;\">\n",
       "      <th></th>\n",
       "      <th>Country Code</th>\n",
       "      <th>2019</th>\n",
       "    </tr>\n",
       "  </thead>\n",
       "  <tbody>\n",
       "    <tr>\n",
       "      <th>0</th>\n",
       "      <td>ABW</td>\n",
       "      <td>NaN</td>\n",
       "    </tr>\n",
       "    <tr>\n",
       "      <th>1</th>\n",
       "      <td>AFE</td>\n",
       "      <td>1485.307425</td>\n",
       "    </tr>\n",
       "    <tr>\n",
       "      <th>2</th>\n",
       "      <td>AFG</td>\n",
       "      <td>507.103392</td>\n",
       "    </tr>\n",
       "    <tr>\n",
       "      <th>3</th>\n",
       "      <td>AFW</td>\n",
       "      <td>1772.339155</td>\n",
       "    </tr>\n",
       "    <tr>\n",
       "      <th>4</th>\n",
       "      <td>AGO</td>\n",
       "      <td>2809.626088</td>\n",
       "    </tr>\n",
       "  </tbody>\n",
       "</table>\n",
       "</div>"
      ],
      "text/plain": [
       "  Country Code         2019\n",
       "0          ABW          NaN\n",
       "1          AFE  1485.307425\n",
       "2          AFG   507.103392\n",
       "3          AFW  1772.339155\n",
       "4          AGO  2809.626088"
      ]
     },
     "execution_count": 7,
     "metadata": {},
     "output_type": "execute_result"
    }
   ],
   "source": [
    "gdp = gdp.loc[:, ['Country Code', '2019']]\n",
    "gdp.head()"
   ]
  },
  {
   "cell_type": "code",
   "execution_count": 8,
   "id": "c4ca66eb",
   "metadata": {},
   "outputs": [
    {
     "data": {
      "text/html": [
       "<div>\n",
       "<style scoped>\n",
       "    .dataframe tbody tr th:only-of-type {\n",
       "        vertical-align: middle;\n",
       "    }\n",
       "\n",
       "    .dataframe tbody tr th {\n",
       "        vertical-align: top;\n",
       "    }\n",
       "\n",
       "    .dataframe thead th {\n",
       "        text-align: right;\n",
       "    }\n",
       "</style>\n",
       "<table border=\"1\" class=\"dataframe\">\n",
       "  <thead>\n",
       "    <tr style=\"text-align: right;\">\n",
       "      <th></th>\n",
       "      <th>Country Code</th>\n",
       "      <th>Region</th>\n",
       "    </tr>\n",
       "  </thead>\n",
       "  <tbody>\n",
       "    <tr>\n",
       "      <th>0</th>\n",
       "      <td>ABW</td>\n",
       "      <td>Latin America &amp; Caribbean</td>\n",
       "    </tr>\n",
       "    <tr>\n",
       "      <th>1</th>\n",
       "      <td>AFE</td>\n",
       "      <td>NaN</td>\n",
       "    </tr>\n",
       "    <tr>\n",
       "      <th>2</th>\n",
       "      <td>AFG</td>\n",
       "      <td>South Asia</td>\n",
       "    </tr>\n",
       "    <tr>\n",
       "      <th>3</th>\n",
       "      <td>AFW</td>\n",
       "      <td>NaN</td>\n",
       "    </tr>\n",
       "    <tr>\n",
       "      <th>4</th>\n",
       "      <td>AGO</td>\n",
       "      <td>Sub-Saharan Africa</td>\n",
       "    </tr>\n",
       "  </tbody>\n",
       "</table>\n",
       "</div>"
      ],
      "text/plain": [
       "  Country Code                     Region\n",
       "0          ABW  Latin America & Caribbean\n",
       "1          AFE                        NaN\n",
       "2          AFG                 South Asia\n",
       "3          AFW                        NaN\n",
       "4          AGO         Sub-Saharan Africa"
      ]
     },
     "execution_count": 8,
     "metadata": {},
     "output_type": "execute_result"
    }
   ],
   "source": [
    "meta = meta.loc[:,['Country Code', 'Region']]\n",
    "meta.head()\n"
   ]
  },
  {
   "attachments": {},
   "cell_type": "markdown",
   "id": "2867789a",
   "metadata": {},
   "source": [
    "### Step 2.b: Check for null (missing) values"
   ]
  },
  {
   "cell_type": "code",
   "execution_count": 9,
   "id": "e39c7c5f",
   "metadata": {},
   "outputs": [
    {
     "name": "stdout",
     "output_type": "stream",
     "text": [
      "Country Code     0\n",
      "Region          48\n",
      "dtype: int64\n"
     ]
    }
   ],
   "source": [
    "print(meta.isnull().sum())"
   ]
  },
  {
   "cell_type": "code",
   "execution_count": 10,
   "id": "54273b81",
   "metadata": {},
   "outputs": [
    {
     "name": "stdout",
     "output_type": "stream",
     "text": [
      "Country Code     0\n",
      "2019            92\n",
      "dtype: int64\n"
     ]
    }
   ],
   "source": [
    "print(spi.isnull().sum())"
   ]
  },
  {
   "cell_type": "code",
   "execution_count": 11,
   "id": "6fd13335",
   "metadata": {},
   "outputs": [
    {
     "name": "stdout",
     "output_type": "stream",
     "text": [
      "Country Code     0\n",
      "2019            19\n",
      "dtype: int64\n"
     ]
    }
   ],
   "source": [
    "print(gdp.isnull().sum())"
   ]
  },
  {
   "attachments": {},
   "cell_type": "markdown",
   "id": "874a4889",
   "metadata": {},
   "source": [
    "### Step 2.c: Drop rows\n",
    "- In `spi` and `gdp` remove missing data"
   ]
  },
  {
   "cell_type": "code",
   "execution_count": 12,
   "id": "31f0df90",
   "metadata": {},
   "outputs": [
    {
     "data": {
      "text/html": [
       "<div>\n",
       "<style scoped>\n",
       "    .dataframe tbody tr th:only-of-type {\n",
       "        vertical-align: middle;\n",
       "    }\n",
       "\n",
       "    .dataframe tbody tr th {\n",
       "        vertical-align: top;\n",
       "    }\n",
       "\n",
       "    .dataframe thead th {\n",
       "        text-align: right;\n",
       "    }\n",
       "</style>\n",
       "<table border=\"1\" class=\"dataframe\">\n",
       "  <thead>\n",
       "    <tr style=\"text-align: right;\">\n",
       "      <th></th>\n",
       "      <th>Country Code</th>\n",
       "      <th>2019</th>\n",
       "    </tr>\n",
       "  </thead>\n",
       "  <tbody>\n",
       "    <tr>\n",
       "      <th>2</th>\n",
       "      <td>AFG</td>\n",
       "      <td>49.756250</td>\n",
       "    </tr>\n",
       "    <tr>\n",
       "      <th>4</th>\n",
       "      <td>AGO</td>\n",
       "      <td>54.945833</td>\n",
       "    </tr>\n",
       "    <tr>\n",
       "      <th>5</th>\n",
       "      <td>ALB</td>\n",
       "      <td>75.382917</td>\n",
       "    </tr>\n",
       "    <tr>\n",
       "      <th>8</th>\n",
       "      <td>ARE</td>\n",
       "      <td>59.669167</td>\n",
       "    </tr>\n",
       "    <tr>\n",
       "      <th>9</th>\n",
       "      <td>ARG</td>\n",
       "      <td>64.595833</td>\n",
       "    </tr>\n",
       "  </tbody>\n",
       "</table>\n",
       "</div>"
      ],
      "text/plain": [
       "  Country Code       2019\n",
       "2          AFG  49.756250\n",
       "4          AGO  54.945833\n",
       "5          ALB  75.382917\n",
       "8          ARE  59.669167\n",
       "9          ARG  64.595833"
      ]
     },
     "execution_count": 12,
     "metadata": {},
     "output_type": "execute_result"
    }
   ],
   "source": [
    "spi.dropna(inplace=True)\n",
    "spi.head()"
   ]
  },
  {
   "cell_type": "code",
   "execution_count": 13,
   "id": "4ced9cb0",
   "metadata": {},
   "outputs": [
    {
     "data": {
      "text/html": [
       "<div>\n",
       "<style scoped>\n",
       "    .dataframe tbody tr th:only-of-type {\n",
       "        vertical-align: middle;\n",
       "    }\n",
       "\n",
       "    .dataframe tbody tr th {\n",
       "        vertical-align: top;\n",
       "    }\n",
       "\n",
       "    .dataframe thead th {\n",
       "        text-align: right;\n",
       "    }\n",
       "</style>\n",
       "<table border=\"1\" class=\"dataframe\">\n",
       "  <thead>\n",
       "    <tr style=\"text-align: right;\">\n",
       "      <th></th>\n",
       "      <th>Country Code</th>\n",
       "      <th>2019</th>\n",
       "    </tr>\n",
       "  </thead>\n",
       "  <tbody>\n",
       "    <tr>\n",
       "      <th>1</th>\n",
       "      <td>AFE</td>\n",
       "      <td>1485.307425</td>\n",
       "    </tr>\n",
       "    <tr>\n",
       "      <th>2</th>\n",
       "      <td>AFG</td>\n",
       "      <td>507.103392</td>\n",
       "    </tr>\n",
       "    <tr>\n",
       "      <th>3</th>\n",
       "      <td>AFW</td>\n",
       "      <td>1772.339155</td>\n",
       "    </tr>\n",
       "    <tr>\n",
       "      <th>4</th>\n",
       "      <td>AGO</td>\n",
       "      <td>2809.626088</td>\n",
       "    </tr>\n",
       "    <tr>\n",
       "      <th>5</th>\n",
       "      <td>ALB</td>\n",
       "      <td>5355.847795</td>\n",
       "    </tr>\n",
       "  </tbody>\n",
       "</table>\n",
       "</div>"
      ],
      "text/plain": [
       "  Country Code         2019\n",
       "1          AFE  1485.307425\n",
       "2          AFG   507.103392\n",
       "3          AFW  1772.339155\n",
       "4          AGO  2809.626088\n",
       "5          ALB  5355.847795"
      ]
     },
     "execution_count": 13,
     "metadata": {},
     "output_type": "execute_result"
    }
   ],
   "source": [
    "gdp.dropna(inplace=True)\n",
    "gdp.head()"
   ]
  },
  {
   "attachments": {},
   "cell_type": "markdown",
   "id": "56d29cda",
   "metadata": {},
   "source": [
    "### Step 2.d: Rename columns\n",
    "- Rename `2019` to `SPI` in `spi`\n",
    "- Rename `2019` to `GDP per capita` in `gdp`"
   ]
  },
  {
   "cell_type": "code",
   "execution_count": 14,
   "id": "2347f141",
   "metadata": {},
   "outputs": [
    {
     "data": {
      "text/html": [
       "<div>\n",
       "<style scoped>\n",
       "    .dataframe tbody tr th:only-of-type {\n",
       "        vertical-align: middle;\n",
       "    }\n",
       "\n",
       "    .dataframe tbody tr th {\n",
       "        vertical-align: top;\n",
       "    }\n",
       "\n",
       "    .dataframe thead th {\n",
       "        text-align: right;\n",
       "    }\n",
       "</style>\n",
       "<table border=\"1\" class=\"dataframe\">\n",
       "  <thead>\n",
       "    <tr style=\"text-align: right;\">\n",
       "      <th></th>\n",
       "      <th>Country Code</th>\n",
       "      <th>SPI</th>\n",
       "    </tr>\n",
       "  </thead>\n",
       "  <tbody>\n",
       "    <tr>\n",
       "      <th>2</th>\n",
       "      <td>AFG</td>\n",
       "      <td>49.756250</td>\n",
       "    </tr>\n",
       "    <tr>\n",
       "      <th>4</th>\n",
       "      <td>AGO</td>\n",
       "      <td>54.945833</td>\n",
       "    </tr>\n",
       "    <tr>\n",
       "      <th>5</th>\n",
       "      <td>ALB</td>\n",
       "      <td>75.382917</td>\n",
       "    </tr>\n",
       "    <tr>\n",
       "      <th>8</th>\n",
       "      <td>ARE</td>\n",
       "      <td>59.669167</td>\n",
       "    </tr>\n",
       "    <tr>\n",
       "      <th>9</th>\n",
       "      <td>ARG</td>\n",
       "      <td>64.595833</td>\n",
       "    </tr>\n",
       "  </tbody>\n",
       "</table>\n",
       "</div>"
      ],
      "text/plain": [
       "  Country Code        SPI\n",
       "2          AFG  49.756250\n",
       "4          AGO  54.945833\n",
       "5          ALB  75.382917\n",
       "8          ARE  59.669167\n",
       "9          ARG  64.595833"
      ]
     },
     "execution_count": 14,
     "metadata": {},
     "output_type": "execute_result"
    }
   ],
   "source": [
    "spi = spi.rename(columns={'2019': 'SPI'})\n",
    "spi.head()"
   ]
  },
  {
   "cell_type": "code",
   "execution_count": 15,
   "id": "380b4781",
   "metadata": {},
   "outputs": [
    {
     "data": {
      "text/html": [
       "<div>\n",
       "<style scoped>\n",
       "    .dataframe tbody tr th:only-of-type {\n",
       "        vertical-align: middle;\n",
       "    }\n",
       "\n",
       "    .dataframe tbody tr th {\n",
       "        vertical-align: top;\n",
       "    }\n",
       "\n",
       "    .dataframe thead th {\n",
       "        text-align: right;\n",
       "    }\n",
       "</style>\n",
       "<table border=\"1\" class=\"dataframe\">\n",
       "  <thead>\n",
       "    <tr style=\"text-align: right;\">\n",
       "      <th></th>\n",
       "      <th>Country Code</th>\n",
       "      <th>GDP</th>\n",
       "    </tr>\n",
       "  </thead>\n",
       "  <tbody>\n",
       "    <tr>\n",
       "      <th>1</th>\n",
       "      <td>AFE</td>\n",
       "      <td>1485.307425</td>\n",
       "    </tr>\n",
       "    <tr>\n",
       "      <th>2</th>\n",
       "      <td>AFG</td>\n",
       "      <td>507.103392</td>\n",
       "    </tr>\n",
       "    <tr>\n",
       "      <th>3</th>\n",
       "      <td>AFW</td>\n",
       "      <td>1772.339155</td>\n",
       "    </tr>\n",
       "    <tr>\n",
       "      <th>4</th>\n",
       "      <td>AGO</td>\n",
       "      <td>2809.626088</td>\n",
       "    </tr>\n",
       "    <tr>\n",
       "      <th>5</th>\n",
       "      <td>ALB</td>\n",
       "      <td>5355.847795</td>\n",
       "    </tr>\n",
       "  </tbody>\n",
       "</table>\n",
       "</div>"
      ],
      "text/plain": [
       "  Country Code          GDP\n",
       "1          AFE  1485.307425\n",
       "2          AFG   507.103392\n",
       "3          AFW  1772.339155\n",
       "4          AGO  2809.626088\n",
       "5          ALB  5355.847795"
      ]
     },
     "execution_count": 15,
     "metadata": {},
     "output_type": "execute_result"
    }
   ],
   "source": [
    "gdp = gdp.rename(columns={'2019': 'GDP'})\n",
    "gdp.head()"
   ]
  },
  {
   "attachments": {},
   "cell_type": "markdown",
   "id": "6250564e",
   "metadata": {},
   "source": [
    "### Step 2.e: Merge data\n",
    "- Use `merge` on `spi` with `gdp`\n",
    "- Use `merge` on `dataset` with `meta`"
   ]
  },
  {
   "cell_type": "code",
   "execution_count": 16,
   "id": "a8aa5f73",
   "metadata": {},
   "outputs": [
    {
     "data": {
      "text/html": [
       "<div>\n",
       "<style scoped>\n",
       "    .dataframe tbody tr th:only-of-type {\n",
       "        vertical-align: middle;\n",
       "    }\n",
       "\n",
       "    .dataframe tbody tr th {\n",
       "        vertical-align: top;\n",
       "    }\n",
       "\n",
       "    .dataframe thead th {\n",
       "        text-align: right;\n",
       "    }\n",
       "</style>\n",
       "<table border=\"1\" class=\"dataframe\">\n",
       "  <thead>\n",
       "    <tr style=\"text-align: right;\">\n",
       "      <th></th>\n",
       "      <th>Country Code</th>\n",
       "      <th>SPI</th>\n",
       "      <th>GDP</th>\n",
       "    </tr>\n",
       "  </thead>\n",
       "  <tbody>\n",
       "    <tr>\n",
       "      <th>0</th>\n",
       "      <td>AFG</td>\n",
       "      <td>49.756250</td>\n",
       "      <td>507.103392</td>\n",
       "    </tr>\n",
       "    <tr>\n",
       "      <th>1</th>\n",
       "      <td>AGO</td>\n",
       "      <td>54.945833</td>\n",
       "      <td>2809.626088</td>\n",
       "    </tr>\n",
       "    <tr>\n",
       "      <th>2</th>\n",
       "      <td>ALB</td>\n",
       "      <td>75.382917</td>\n",
       "      <td>5355.847795</td>\n",
       "    </tr>\n",
       "    <tr>\n",
       "      <th>3</th>\n",
       "      <td>ARE</td>\n",
       "      <td>59.669167</td>\n",
       "      <td>43103.336293</td>\n",
       "    </tr>\n",
       "    <tr>\n",
       "      <th>4</th>\n",
       "      <td>ARG</td>\n",
       "      <td>64.595833</td>\n",
       "      <td>9912.281809</td>\n",
       "    </tr>\n",
       "  </tbody>\n",
       "</table>\n",
       "</div>"
      ],
      "text/plain": [
       "  Country Code        SPI           GDP\n",
       "0          AFG  49.756250    507.103392\n",
       "1          AGO  54.945833   2809.626088\n",
       "2          ALB  75.382917   5355.847795\n",
       "3          ARE  59.669167  43103.336293\n",
       "4          ARG  64.595833   9912.281809"
      ]
     },
     "execution_count": 16,
     "metadata": {},
     "output_type": "execute_result"
    }
   ],
   "source": [
    "dataset = spi.merge(gdp, how='inner', on='Country Code')\n",
    "dataset.head()"
   ]
  },
  {
   "cell_type": "code",
   "execution_count": 17,
   "id": "2af7a009",
   "metadata": {},
   "outputs": [
    {
     "data": {
      "text/html": [
       "<div>\n",
       "<style scoped>\n",
       "    .dataframe tbody tr th:only-of-type {\n",
       "        vertical-align: middle;\n",
       "    }\n",
       "\n",
       "    .dataframe tbody tr th {\n",
       "        vertical-align: top;\n",
       "    }\n",
       "\n",
       "    .dataframe thead th {\n",
       "        text-align: right;\n",
       "    }\n",
       "</style>\n",
       "<table border=\"1\" class=\"dataframe\">\n",
       "  <thead>\n",
       "    <tr style=\"text-align: right;\">\n",
       "      <th></th>\n",
       "      <th>Country Code</th>\n",
       "      <th>SPI</th>\n",
       "      <th>GDP</th>\n",
       "      <th>Region</th>\n",
       "    </tr>\n",
       "  </thead>\n",
       "  <tbody>\n",
       "    <tr>\n",
       "      <th>0</th>\n",
       "      <td>AFG</td>\n",
       "      <td>49.756250</td>\n",
       "      <td>507.103392</td>\n",
       "      <td>South Asia</td>\n",
       "    </tr>\n",
       "    <tr>\n",
       "      <th>1</th>\n",
       "      <td>AGO</td>\n",
       "      <td>54.945833</td>\n",
       "      <td>2809.626088</td>\n",
       "      <td>Sub-Saharan Africa</td>\n",
       "    </tr>\n",
       "    <tr>\n",
       "      <th>2</th>\n",
       "      <td>ALB</td>\n",
       "      <td>75.382917</td>\n",
       "      <td>5355.847795</td>\n",
       "      <td>Europe &amp; Central Asia</td>\n",
       "    </tr>\n",
       "    <tr>\n",
       "      <th>3</th>\n",
       "      <td>ARE</td>\n",
       "      <td>59.669167</td>\n",
       "      <td>43103.336293</td>\n",
       "      <td>Middle East &amp; North Africa</td>\n",
       "    </tr>\n",
       "    <tr>\n",
       "      <th>4</th>\n",
       "      <td>ARG</td>\n",
       "      <td>64.595833</td>\n",
       "      <td>9912.281809</td>\n",
       "      <td>Latin America &amp; Caribbean</td>\n",
       "    </tr>\n",
       "  </tbody>\n",
       "</table>\n",
       "</div>"
      ],
      "text/plain": [
       "  Country Code        SPI           GDP                      Region\n",
       "0          AFG  49.756250    507.103392                  South Asia\n",
       "1          AGO  54.945833   2809.626088          Sub-Saharan Africa\n",
       "2          ALB  75.382917   5355.847795       Europe & Central Asia\n",
       "3          ARE  59.669167  43103.336293  Middle East & North Africa\n",
       "4          ARG  64.595833   9912.281809   Latin America & Caribbean"
      ]
     },
     "execution_count": 17,
     "metadata": {},
     "output_type": "execute_result"
    }
   ],
   "source": [
    "dataset = dataset.merge(meta, how='inner', on='Country Code')\n",
    "dataset.head()"
   ]
  },
  {
   "cell_type": "markdown",
   "id": "8cc1cabe",
   "metadata": {},
   "source": [
    "## Step 3: Analyze\n",
    "- Feature selection\n",
    "- Model selection\n",
    "- Analyze data"
   ]
  },
  {
   "attachments": {},
   "cell_type": "markdown",
   "id": "137fdfde",
   "metadata": {},
   "source": [
    "### Step 3.a: Visualize regional SPI\n",
    "- A bar-chart showing the regional mean of SPI"
   ]
  },
  {
   "cell_type": "code",
   "execution_count": 18,
   "id": "02cd1683",
   "metadata": {},
   "outputs": [
    {
     "name": "stderr",
     "output_type": "stream",
     "text": [
      "/tmp/ipykernel_99955/815277450.py:1: FutureWarning: The default value of numeric_only in DataFrameGroupBy.mean is deprecated. In a future version, numeric_only will default to False. Either specify numeric_only or select only columns which should be valid for the function.\n",
      "  plot_data = dataset.groupby('Region').mean()['SPI']\n"
     ]
    },
    {
     "data": {
      "text/plain": [
       "Text(0, 0.5, 'Mean Value')"
      ]
     },
     "execution_count": 18,
     "metadata": {},
     "output_type": "execute_result"
    },
    {
     "data": {
      "image/png": "[encoded data removed]",
      "text/plain": [
       "<Figure size 640x480 with 1 Axes>"
      ]
     },
     "metadata": {},
     "output_type": "display_data"
    }
   ],
   "source": [
    "plot_data = dataset.groupby('Region').mean()['SPI']\n",
    "ax = plot_data.plot.bar()\n",
    "\n",
    "# Add axes labels\n",
    "ax.set_xlabel('Region')\n",
    "ax.set_ylabel('Mean Value')\n"
   ]
  },
  {
   "cell_type": "markdown",
   "id": "b7a03792",
   "metadata": {},
   "source": [
    "### Step 3.b: Scatter plot SPI and GDP\n",
    "- Create a scatter plot of `GDP per capita` on x-axis and `SPI` on y-axis.\n",
    "- Try with logarithmic scale (add `logx=True` as argument."
   ]
  },
  {
   "cell_type": "code",
   "execution_count": 21,
   "id": "f168a0f7",
   "metadata": {},
   "outputs": [
    {
     "data": {
      "text/plain": [
       "<Axes: xlabel='GDP', ylabel='SPI'>"
      ]
     },
     "execution_count": 21,
     "metadata": {},
     "output_type": "execute_result"
    },
    {
     "data": {
      "image/png": "[encoded data removed]",
      "text/plain": [
       "<Figure size 640x480 with 1 Axes>"
      ]
     },
     "metadata": {},
     "output_type": "display_data"
    }
   ],
   "source": [
    "dataset.plot.scatter(x='GDP', y='SPI')"
   ]
  },
  {
   "cell_type": "code",
   "execution_count": 22,
   "id": "4a0a6979",
   "metadata": {},
   "outputs": [
    {
     "data": {
      "text/plain": [
       "<Axes: xlabel='GDP', ylabel='SPI'>"
      ]
     },
     "execution_count": 22,
     "metadata": {},
     "output_type": "execute_result"
    },
    {
     "data": {
      "image/png": "[encoded data removed]",
      "text/plain": [
       "<Figure size 640x480 with 1 Axes>"
      ]
     },
     "metadata": {},
     "output_type": "display_data"
    }
   ],
   "source": [
    "dataset.plot.scatter(x='GDP ', y='SPI', logx = True)"
   ]
  },
  {
   "attachments": {},
   "cell_type": "markdown",
   "id": "b7a08c8d",
   "metadata": {},
   "source": [
    "The logarithmic graph illustrates that as countries become wealthier, their GDP experiences exponential growth."
   ]
  },
  {
   "cell_type": "markdown",
   "id": "98a71ee2",
   "metadata": {},
   "source": [
    "## Step 4: Report\n",
    "- Present findings\n",
    "- Visualize results\n",
    "- Credibility counts"
   ]
  },
  {
   "cell_type": "markdown",
   "id": "7b2afa44",
   "metadata": {},
   "source": [
    "### Step 4.a: Sort and make horizontal bar plot\n",
    "- This will get you started in creating a plot\n",
    "- Take the regional plot and sort it.\n",
    "    - HINT: use `.sort_values(ascending=False)`\n",
    "- Make the plot horizontal\n",
    "    - HINT: use `.plot.barh()`\n",
    "- Experiement further to find the plot you like"
   ]
  },
  {
   "cell_type": "code",
   "execution_count": 23,
   "id": "ab611812",
   "metadata": {},
   "outputs": [
    {
     "name": "stderr",
     "output_type": "stream",
     "text": [
      "/tmp/ipykernel_99955/99530484.py:1: FutureWarning: The default value of numeric_only in DataFrameGroupBy.mean is deprecated. In a future version, numeric_only will default to False. Either specify numeric_only or select only columns which should be valid for the function.\n",
      "  dataset.groupby('Region').mean()['SPI'].sort_values(ascending=False).plot.barh()\n"
     ]
    },
    {
     "data": {
      "text/plain": [
       "<Axes: ylabel='Region'>"
      ]
     },
     "execution_count": 23,
     "metadata": {},
     "output_type": "execute_result"
    },
    {
     "data": {
      "image/png": "[encoded data removed]",
      "text/plain": [
       "<Figure size 640x480 with 1 Axes>"
      ]
     },
     "metadata": {},
     "output_type": "display_data"
    }
   ],
   "source": [
    "dataset.groupby('Region').mean()['SPI'].sort_values(ascending=False).plot.barh()"
   ]
  },
  {
   "cell_type": "markdown",
   "id": "a4e5de0c",
   "metadata": {},
   "source": [
    "### Step 4.b: Add colors to regional plot\n",
    "- Create a series of the colors based on the regional categories.\n",
    "    - HINT: Use `factorize()` and assign the first index ([docs](https://pandas.pydata.org/docs/reference/api/pandas.factorize.html)).\n",
    "- Make a color mapping in the scatter plot\n",
    "    - HINT: Use argument `c=colors` (assuming you assigned the factorize result to `colors`\n",
    "- Try to change color maps\n",
    "    - HINT: Use `cmap='tab10'` (see other color maps in [docs](https://matplotlib.org/stable/tutorials/colors/colormaps.html))\n",
    "- Play around until you get the plot you like"
   ]
  },
  {
   "cell_type": "code",
   "execution_count": 26,
   "id": "1444520c",
   "metadata": {},
   "outputs": [
    {
     "data": {
      "text/plain": [
       "<Axes: xlabel='GDP', ylabel='SPI'>"
      ]
     },
     "execution_count": 26,
     "metadata": {},
     "output_type": "execute_result"
    },
    {
     "data": {
      "image/png": "[encoded data removed]",
      "text/plain": [
       "<Figure size 1000x800 with 2 Axes>"
      ]
     },
     "metadata": {},
     "output_type": "display_data"
    }
   ],
   "source": [
    "colors = dataset['Region'].factorize()[0]\n",
    "dataset.plot.scatter(x='GDP', y='SPI', c=colors, colormap='viridis', logx=True, figsize=(10, 8))"
   ]
  },
  {
   "attachments": {},
   "cell_type": "markdown",
   "id": "65c865f1",
   "metadata": {},
   "source": [
    "## Step 5: Actions\n",
    "- Use insights\n",
    "- Measure impact\n",
    "- Main goal"
   ]
  },
  {
   "attachments": {},
   "cell_type": "markdown",
   "id": "010b3fce",
   "metadata": {},
   "source": [
    "### Step 5.a: Insights"
   ]
  },
  {
   "attachments": {},
   "cell_type": "markdown",
   "id": "fa598c1e",
   "metadata": {},
   "source": [
    "From the data collected and analyzed, it appears that there is a significant correlation between GDP per capita and the Social Progress Index (SPI). The relationship suggests that as a country's GDP per capita increases, its SPI tends to improve as well. This positive correlation may imply that higher levels of income per person contribute to better social outcomes and overall well-being in a society. However, it is essential to consider that correlation does not imply causation, and other factors may also influence the relationship between GDP per capita and SPI. Further research and analysis are necessary to better understand the underlying dynamics and causal relationships between these two indicators. "
   ]
  }
 ],
 "metadata": {
  "kernelspec": {
   "display_name": "Python 3 (ipykernel)",
   "language": "python",
   "name": "python3"
  },
  "language_info": {
   "codemirror_mode": {
    "name": "ipython",
    "version": 3
   },
   "file_extension": ".py",
   "mimetype": "text/x-python",
   "name": "python",
   "nbconvert_exporter": "python",
   "pygments_lexer": "ipython3",
   "version": "3.10.6"
  }
 },
 "nbformat": 4,
 "nbformat_minor": 5
}
