{
 "cells": [
  {
   "cell_type": "markdown",
   "id": "39c877c9",
   "metadata": {},
   "source": [
    "# Project - CO2 Per Capita"
   ]
  },
  {
   "cell_type": "markdown",
   "id": "26869a35",
   "metadata": {},
   "source": [
    "![Data Science Workflow](img/ds-workflow.png)"
   ]
  },
  {
   "cell_type": "markdown",
   "id": "d0e1870e",
   "metadata": {},
   "source": [
    "## Goal of Project\n",
    "- Explore how Data Visualization can help present findings with a message"
   ]
  },
  {
   "cell_type": "markdown",
   "id": "77f362c4",
   "metadata": {},
   "source": [
    "## Step 1: Acquire\n",
    "- Explore problem\n",
    "- Identify data\n",
    "- Import data"
   ]
  },
  {
   "cell_type": "markdown",
   "id": "6f8cbbcb",
   "metadata": {},
   "source": [
    "### Step 1.a: Import libraries"
   ]
  },
  {
   "cell_type": "code",
   "execution_count": 1,
   "id": "49843a0f",
   "metadata": {},
   "outputs": [],
   "source": [
    "import pandas as pd\n",
    "import matplotlib.pyplot as plt\n",
    "%matplotlib inline"
   ]
  },
  {
   "cell_type": "markdown",
   "id": "b5f9a799",
   "metadata": {},
   "source": [
    "### Step 1.b: Read the data\n",
    "- Use ```pd.read_csv()``` to read the file `files/WorldBank-ATM.CO2E.PC_DS2.csv`\n",
    "- NOTE: Remember to assign the result to a variable (e.g., ```data```)\n",
    "- NOTE: Use ```index_col=0``` as argument to set the index column.\n",
    "- Apply ```.head()``` on the data to see all is as expected"
   ]
  },
  {
   "cell_type": "code",
   "execution_count": 15,
   "id": "5878b863",
   "metadata": {},
   "outputs": [],
   "source": [
    "data=pd.read_csv('files/WorldBank-ATM.CO2E.PC_DS2.csv', index_col=0)"
   ]
  },
  {
   "cell_type": "code",
   "execution_count": 16,
   "id": "8fa92adb",
   "metadata": {},
   "outputs": [
    {
     "data": {
      "text/html": [
       "<div>\n",
       "<style scoped>\n",
       "    .dataframe tbody tr th:only-of-type {\n",
       "        vertical-align: middle;\n",
       "    }\n",
       "\n",
       "    .dataframe tbody tr th {\n",
       "        vertical-align: top;\n",
       "    }\n",
       "\n",
       "    .dataframe thead th {\n",
       "        text-align: right;\n",
       "    }\n",
       "</style>\n",
       "<table border=\"1\" class=\"dataframe\">\n",
       "  <thead>\n",
       "    <tr style=\"text-align: right;\">\n",
       "      <th></th>\n",
       "      <th>ABW</th>\n",
       "      <th>AFE</th>\n",
       "      <th>AFG</th>\n",
       "      <th>AFW</th>\n",
       "      <th>AGO</th>\n",
       "      <th>ALB</th>\n",
       "      <th>AND</th>\n",
       "      <th>ARB</th>\n",
       "      <th>ARE</th>\n",
       "      <th>ARG</th>\n",
       "      <th>...</th>\n",
       "      <th>VIR</th>\n",
       "      <th>VNM</th>\n",
       "      <th>VUT</th>\n",
       "      <th>WLD</th>\n",
       "      <th>WSM</th>\n",
       "      <th>XKX</th>\n",
       "      <th>YEM</th>\n",
       "      <th>ZAF</th>\n",
       "      <th>ZMB</th>\n",
       "      <th>ZWE</th>\n",
       "    </tr>\n",
       "    <tr>\n",
       "      <th>Year</th>\n",
       "      <th></th>\n",
       "      <th></th>\n",
       "      <th></th>\n",
       "      <th></th>\n",
       "      <th></th>\n",
       "      <th></th>\n",
       "      <th></th>\n",
       "      <th></th>\n",
       "      <th></th>\n",
       "      <th></th>\n",
       "      <th></th>\n",
       "      <th></th>\n",
       "      <th></th>\n",
       "      <th></th>\n",
       "      <th></th>\n",
       "      <th></th>\n",
       "      <th></th>\n",
       "      <th></th>\n",
       "      <th></th>\n",
       "      <th></th>\n",
       "      <th></th>\n",
       "    </tr>\n",
       "  </thead>\n",
       "  <tbody>\n",
       "    <tr>\n",
       "      <th>1960</th>\n",
       "      <td>204.631696</td>\n",
       "      <td>0.906060</td>\n",
       "      <td>0.046057</td>\n",
       "      <td>0.090880</td>\n",
       "      <td>0.100835</td>\n",
       "      <td>1.258195</td>\n",
       "      <td>NaN</td>\n",
       "      <td>0.609268</td>\n",
       "      <td>0.119037</td>\n",
       "      <td>2.383343</td>\n",
       "      <td>...</td>\n",
       "      <td>NaN</td>\n",
       "      <td>0.181947</td>\n",
       "      <td>NaN</td>\n",
       "      <td>3.121158</td>\n",
       "      <td>0.135031</td>\n",
       "      <td>NaN</td>\n",
       "      <td>0.011038</td>\n",
       "      <td>5.727223</td>\n",
       "      <td>NaN</td>\n",
       "      <td>NaN</td>\n",
       "    </tr>\n",
       "    <tr>\n",
       "      <th>1961</th>\n",
       "      <td>208.837879</td>\n",
       "      <td>0.922474</td>\n",
       "      <td>0.053589</td>\n",
       "      <td>0.095283</td>\n",
       "      <td>0.082204</td>\n",
       "      <td>1.374186</td>\n",
       "      <td>NaN</td>\n",
       "      <td>0.662618</td>\n",
       "      <td>0.109136</td>\n",
       "      <td>2.458551</td>\n",
       "      <td>...</td>\n",
       "      <td>NaN</td>\n",
       "      <td>0.183099</td>\n",
       "      <td>NaN</td>\n",
       "      <td>3.068090</td>\n",
       "      <td>0.163542</td>\n",
       "      <td>NaN</td>\n",
       "      <td>0.013599</td>\n",
       "      <td>5.832621</td>\n",
       "      <td>NaN</td>\n",
       "      <td>NaN</td>\n",
       "    </tr>\n",
       "    <tr>\n",
       "      <th>1962</th>\n",
       "      <td>226.081890</td>\n",
       "      <td>0.930816</td>\n",
       "      <td>0.073721</td>\n",
       "      <td>0.096612</td>\n",
       "      <td>0.210533</td>\n",
       "      <td>1.439956</td>\n",
       "      <td>NaN</td>\n",
       "      <td>0.727117</td>\n",
       "      <td>0.163542</td>\n",
       "      <td>2.538447</td>\n",
       "      <td>...</td>\n",
       "      <td>NaN</td>\n",
       "      <td>0.217694</td>\n",
       "      <td>0.595002</td>\n",
       "      <td>3.114839</td>\n",
       "      <td>0.158377</td>\n",
       "      <td>NaN</td>\n",
       "      <td>0.012729</td>\n",
       "      <td>5.887168</td>\n",
       "      <td>NaN</td>\n",
       "      <td>NaN</td>\n",
       "    </tr>\n",
       "    <tr>\n",
       "      <th>1963</th>\n",
       "      <td>214.785217</td>\n",
       "      <td>0.940570</td>\n",
       "      <td>0.074161</td>\n",
       "      <td>0.112376</td>\n",
       "      <td>0.202739</td>\n",
       "      <td>1.181681</td>\n",
       "      <td>NaN</td>\n",
       "      <td>0.853116</td>\n",
       "      <td>0.175833</td>\n",
       "      <td>2.330685</td>\n",
       "      <td>...</td>\n",
       "      <td>NaN</td>\n",
       "      <td>0.196997</td>\n",
       "      <td>0.471849</td>\n",
       "      <td>3.221195</td>\n",
       "      <td>0.184037</td>\n",
       "      <td>NaN</td>\n",
       "      <td>0.014518</td>\n",
       "      <td>5.961337</td>\n",
       "      <td>NaN</td>\n",
       "      <td>NaN</td>\n",
       "    </tr>\n",
       "    <tr>\n",
       "      <th>1964</th>\n",
       "      <td>207.626699</td>\n",
       "      <td>0.996033</td>\n",
       "      <td>0.086174</td>\n",
       "      <td>0.133258</td>\n",
       "      <td>0.213562</td>\n",
       "      <td>1.111742</td>\n",
       "      <td>NaN</td>\n",
       "      <td>0.972381</td>\n",
       "      <td>0.132815</td>\n",
       "      <td>2.553442</td>\n",
       "      <td>...</td>\n",
       "      <td>NaN</td>\n",
       "      <td>0.209870</td>\n",
       "      <td>0.864427</td>\n",
       "      <td>3.324046</td>\n",
       "      <td>0.208106</td>\n",
       "      <td>NaN</td>\n",
       "      <td>0.017550</td>\n",
       "      <td>6.332343</td>\n",
       "      <td>0.946606</td>\n",
       "      <td>1.034904</td>\n",
       "    </tr>\n",
       "  </tbody>\n",
       "</table>\n",
       "<p>5 rows × 266 columns</p>\n",
       "</div>"
      ],
      "text/plain": [
       "             ABW       AFE       AFG       AFW       AGO       ALB  AND  \\\n",
       "Year                                                                      \n",
       "1960  204.631696  0.906060  0.046057  0.090880  0.100835  1.258195  NaN   \n",
       "1961  208.837879  0.922474  0.053589  0.095283  0.082204  1.374186  NaN   \n",
       "1962  226.081890  0.930816  0.073721  0.096612  0.210533  1.439956  NaN   \n",
       "1963  214.785217  0.940570  0.074161  0.112376  0.202739  1.181681  NaN   \n",
       "1964  207.626699  0.996033  0.086174  0.133258  0.213562  1.111742  NaN   \n",
       "\n",
       "           ARB       ARE       ARG  ...  VIR       VNM       VUT       WLD  \\\n",
       "Year                                ...                                      \n",
       "1960  0.609268  0.119037  2.383343  ...  NaN  0.181947       NaN  3.121158   \n",
       "1961  0.662618  0.109136  2.458551  ...  NaN  0.183099       NaN  3.068090   \n",
       "1962  0.727117  0.163542  2.538447  ...  NaN  0.217694  0.595002  3.114839   \n",
       "1963  0.853116  0.175833  2.330685  ...  NaN  0.196997  0.471849  3.221195   \n",
       "1964  0.972381  0.132815  2.553442  ...  NaN  0.209870  0.864427  3.324046   \n",
       "\n",
       "           WSM  XKX       YEM       ZAF       ZMB       ZWE  \n",
       "Year                                                         \n",
       "1960  0.135031  NaN  0.011038  5.727223       NaN       NaN  \n",
       "1961  0.163542  NaN  0.013599  5.832621       NaN       NaN  \n",
       "1962  0.158377  NaN  0.012729  5.887168       NaN       NaN  \n",
       "1963  0.184037  NaN  0.014518  5.961337       NaN       NaN  \n",
       "1964  0.208106  NaN  0.017550  6.332343  0.946606  1.034904  \n",
       "\n",
       "[5 rows x 266 columns]"
      ]
     },
     "execution_count": 16,
     "metadata": {},
     "output_type": "execute_result"
    }
   ],
   "source": [
    "data.head()"
   ]
  },
  {
   "cell_type": "markdown",
   "id": "a2377dd7",
   "metadata": {},
   "source": [
    "### Step 1.c: Size of data\n",
    "- The columns represent countries and rows years\n",
    "- Apply ```.shape``` on the DataFrame to see if data is as expected"
   ]
  },
  {
   "cell_type": "code",
   "execution_count": 24,
   "id": "31337240",
   "metadata": {},
   "outputs": [
    {
     "data": {
      "text/plain": [
       "(59, 266)"
      ]
     },
     "execution_count": 24,
     "metadata": {},
     "output_type": "execute_result"
    }
   ],
   "source": [
    "data.shape"
   ]
  },
  {
   "cell_type": "markdown",
   "id": "3bec949d",
   "metadata": {},
   "source": [
    "## Step 2: Prepare\n",
    "- Explore data\n",
    "- Visualize ideas\n",
    "- Cleaning data"
   ]
  },
  {
   "cell_type": "markdown",
   "id": "6a5d948d",
   "metadata": {},
   "source": [
    "### Step 2.a: Check the data types\n",
    "- This step tells you if some numeric column is not represented numeric.\n",
    "- Get the data types by ```.dtypes```\n",
    "- We expect all data to numeric\n",
    "- Try out ```.info()``` to get an overview."
   ]
  },
  {
   "cell_type": "code",
   "execution_count": 17,
   "id": "78e9ef32",
   "metadata": {},
   "outputs": [
    {
     "data": {
      "text/plain": [
       "ABW    float64\n",
       "AFE    float64\n",
       "AFG    float64\n",
       "AFW    float64\n",
       "AGO    float64\n",
       "        ...   \n",
       "XKX    float64\n",
       "YEM    float64\n",
       "ZAF    float64\n",
       "ZMB    float64\n",
       "ZWE    float64\n",
       "Length: 266, dtype: object"
      ]
     },
     "execution_count": 17,
     "metadata": {},
     "output_type": "execute_result"
    }
   ],
   "source": [
    "data.dtypes"
   ]
  },
  {
   "cell_type": "code",
   "execution_count": 18,
   "id": "1f5df31e",
   "metadata": {},
   "outputs": [
    {
     "name": "stdout",
     "output_type": "stream",
     "text": [
      "<class 'pandas.core.frame.DataFrame'>\n",
      "Int64Index: 59 entries, 1960 to 2018\n",
      "Columns: 266 entries, ABW to ZWE\n",
      "dtypes: float64(266)\n",
      "memory usage: 123.1 KB\n"
     ]
    }
   ],
   "source": [
    "data.info()"
   ]
  },
  {
   "cell_type": "markdown",
   "id": "2867789a",
   "metadata": {},
   "source": [
    "### Step 2.b: Check for null (missing) values\n",
    "- Data often is missing entries - there can be many reasons for this\n",
    "- Using ```.isnull().any()```\n"
   ]
  },
  {
   "cell_type": "code",
   "execution_count": 19,
   "id": "4d1b0678",
   "metadata": {},
   "outputs": [
    {
     "data": {
      "text/plain": [
       "ABW     True\n",
       "AFE    False\n",
       "AFG    False\n",
       "AFW    False\n",
       "AGO    False\n",
       "       ...  \n",
       "XKX     True\n",
       "YEM    False\n",
       "ZAF    False\n",
       "ZMB     True\n",
       "ZWE     True\n",
       "Length: 266, dtype: bool"
      ]
     },
     "execution_count": 19,
     "metadata": {},
     "output_type": "execute_result"
    }
   ],
   "source": [
    "data.isnull().any()"
   ]
  },
  {
   "cell_type": "code",
   "execution_count": null,
   "id": "974ce0db",
   "metadata": {},
   "outputs": [],
   "source": []
  },
  {
   "cell_type": "markdown",
   "id": "137fdfde",
   "metadata": {},
   "source": [
    "### Step 2.c: Visualize number of missing data points\n",
    "- To get an idea of the maginitude of the problem you can visualize the number of missing rows for each country.\n",
    "- ```.isnull()``` identifies missing values\n",
    "- ```.isnull().sum()``` counts the number of missing values per country\n",
    "- ```.isnull().sum().plot.hist()``` plots how many countries have missing values in ranges"
   ]
  },
  {
   "cell_type": "code",
   "execution_count": 20,
   "id": "82a0d1b7",
   "metadata": {},
   "outputs": [
    {
     "data": {
      "text/plain": [
       "ABW    29\n",
       "AFE     0\n",
       "AFG     0\n",
       "AFW     0\n",
       "AGO     0\n",
       "       ..\n",
       "XKX    59\n",
       "YEM     0\n",
       "ZAF     0\n",
       "ZMB     4\n",
       "ZWE     4\n",
       "Length: 266, dtype: int64"
      ]
     },
     "execution_count": 20,
     "metadata": {},
     "output_type": "execute_result"
    }
   ],
   "source": [
    "data.isnull().sum()"
   ]
  },
  {
   "cell_type": "code",
   "execution_count": 21,
   "id": "9f6775df",
   "metadata": {},
   "outputs": [
    {
     "data": {
      "text/plain": [
       "<AxesSubplot:ylabel='Frequency'>"
      ]
     },
     "execution_count": 21,
     "metadata": {},
     "output_type": "execute_result"
    },
    {
     "data": {
      "image/png": "[encoded data removed]",
      "text/plain": [
       "<Figure size 640x480 with 1 Axes>"
      ]
     },
     "metadata": {},
     "output_type": "display_data"
    }
   ],
   "source": [
    "data.isnull().sum().plot.hist()"
   ]
  },
  {
   "cell_type": "markdown",
   "id": "149707e4",
   "metadata": {},
   "source": [
    "### Step 2.d: Clean data\n",
    "- A simple way to clean data is to remove columns with missing data\n",
    "- Use ```.dropna(axis='columns')``` to remove columns with missing data\n",
    "- Check how may columns are left\n",
    "    - HINT: apply ```len(...)``` on the DataFrame columns"
   ]
  },
  {
   "cell_type": "code",
   "execution_count": 25,
   "id": "d82ded0c",
   "metadata": {},
   "outputs": [],
   "source": [
    "data_clean=data.dropna(axis='columns')"
   ]
  },
  {
   "cell_type": "code",
   "execution_count": 34,
   "id": "5072419e",
   "metadata": {},
   "outputs": [
    {
     "data": {
      "text/plain": [
       "(266, 191)"
      ]
     },
     "execution_count": 34,
     "metadata": {},
     "output_type": "execute_result"
    }
   ],
   "source": [
    "len(data.columns), len(data_clean.columns)"
   ]
  },
  {
   "cell_type": "markdown",
   "id": "8cc1cabe",
   "metadata": {},
   "source": [
    "## Step 3: Analyze\n",
    "- Feature selection\n",
    "- Model selection\n",
    "- Analyze data"
   ]
  },
  {
   "cell_type": "markdown",
   "id": "a3430e77",
   "metadata": {},
   "source": [
    "### Step 3.a: Percentage change 20 years\n",
    "- Calculate the change in CO2 per capita from 1998 to 2018\n",
    "    - HINT: Formula is (value in 2018 - value in 1998) / value in 1998\n",
    "    - This can be calculated on all rows simultaneously\n",
    "        - ```(data_clean.loc[2018] - data_clean.loc[1998])/data_clean.loc[1998]``` Assuming the data is in ```data_clean```"
   ]
  },
  {
   "cell_type": "code",
   "execution_count": 35,
   "id": "7c4dfece",
   "metadata": {},
   "outputs": [],
   "source": [
    "data_plot=(data_clean.loc[2018] - data_clean.loc[1998])/data_clean.loc[1998]"
   ]
  },
  {
   "cell_type": "markdown",
   "id": "97ccf3b7",
   "metadata": {},
   "source": [
    "### Step 3.b: Describe the data \n",
    "- A great way to understand data is to apply ```.describe()```\n",
    "- How does this help you to understand data?"
   ]
  },
  {
   "cell_type": "code",
   "execution_count": 36,
   "id": "e405cbc0",
   "metadata": {},
   "outputs": [
    {
     "data": {
      "text/plain": [
       "count    191.000000\n",
       "mean       0.494745\n",
       "std        1.341795\n",
       "min       -0.737721\n",
       "25%       -0.101786\n",
       "50%        0.198752\n",
       "75%        0.643839\n",
       "max       15.694284\n",
       "dtype: float64"
      ]
     },
     "execution_count": 36,
     "metadata": {},
     "output_type": "execute_result"
    }
   ],
   "source": [
    "data_plot.describe()"
   ]
  },
  {
   "cell_type": "markdown",
   "id": "0a3163e0",
   "metadata": {},
   "source": [
    "### Step 3.c: Visualization of data\n",
    "- This helps you to understand data better\n",
    "- We start with a histogram ```.plot.hist(bins=30)```\n",
    "- Try with a Pie Chart on values below 0\n",
    "    - HINT: Use ```(data_plot < 0).value_counts()``` (assuming data is in ```data_plot```)\n",
    "    - Chart: ```.plot.pie(colors=['r', 'g'], labels=['>= 0', '< 0'], title='Title', ylabel='label', autopct='%1.1f%%')```\n",
    "- Play around with other visualizations"
   ]
  },
  {
   "cell_type": "code",
   "execution_count": 37,
   "id": "6cd47bb1",
   "metadata": {},
   "outputs": [
    {
     "data": {
      "text/plain": [
       "<AxesSubplot:ylabel='Frequency'>"
      ]
     },
     "execution_count": 37,
     "metadata": {},
     "output_type": "execute_result"
    },
    {
     "data": {
      "image/png": "[encoded data removed]",
      "text/plain": [
       "<Figure size 640x480 with 1 Axes>"
      ]
     },
     "metadata": {},
     "output_type": "display_data"
    }
   ],
   "source": [
    "data_plot.plot.hist(bins=30)"
   ]
  },
  {
   "cell_type": "code",
   "execution_count": 38,
   "id": "bb804c77",
   "metadata": {},
   "outputs": [
    {
     "data": {
      "text/plain": [
       "False    123\n",
       "True      68\n",
       "dtype: int64"
      ]
     },
     "execution_count": 38,
     "metadata": {},
     "output_type": "execute_result"
    }
   ],
   "source": [
    "(data_plot < 0).value_counts()"
   ]
  },
  {
   "cell_type": "code",
   "execution_count": 39,
   "id": "4c92cd50",
   "metadata": {},
   "outputs": [
    {
     "data": {
      "text/plain": [
       "<AxesSubplot:title={'center':'Title'}, ylabel='label'>"
      ]
     },
     "execution_count": 39,
     "metadata": {},
     "output_type": "execute_result"
    },
    {
     "data": {
      "image/png": "[encoded data removed]",
      "text/plain": [
       "<Figure size 640x480 with 1 Axes>"
      ]
     },
     "metadata": {},
     "output_type": "display_data"
    }
   ],
   "source": [
    "(data_plot < 0).value_counts().plot.pie(colors=['r', 'g'], labels=['>= 0', '< 0'], title='Title', ylabel='label', autopct='%1.1f%%')"
   ]
  },
  {
   "cell_type": "markdown",
   "id": "98a71ee2",
   "metadata": {},
   "source": [
    "## Step 4: Report\n",
    "- Present findings\n",
    "- Visualize results\n",
    "- Credibility counts"
   ]
  },
  {
   "cell_type": "markdown",
   "id": "ff2079f3",
   "metadata": {},
   "source": [
    "### Step 4.a: Presenting the chart\n",
    "- The pie chart shows the decrease in CO2 per capita over the last 20 years.\n",
    "- 64.4% of the countries are producing more than or almost equal to 0.\n",
    "- 35.6% of the countries are producing less than 0. "
   ]
  },
  {
   "cell_type": "code",
   "execution_count": 41,
   "id": "5ed32d2b",
   "metadata": {},
   "outputs": [
    {
     "data": {
      "text/plain": [
       "<AxesSubplot:title={'center':'Countries with decrease in CO2 per capita'}, ylabel='20 year range'>"
      ]
     },
     "execution_count": 41,
     "metadata": {},
     "output_type": "execute_result"
    },
    {
     "data": {
      "image/png": "[encoded data removed]",
      "text/plain": [
       "<Figure size 640x480 with 1 Axes>"
      ]
     },
     "metadata": {},
     "output_type": "display_data"
    }
   ],
   "source": [
    "(data_plot < 0).value_counts().plot.pie(colors=['r', 'g'], labels=['>= 0', '< 0'], title='Countries with decrease in CO2 per capita', ylabel='20 year range', autopct='%1.1f%%')"
   ]
  },
  {
   "cell_type": "markdown",
   "id": "dc73e667",
   "metadata": {},
   "source": [
    "### Step 4.b: Present another chart\n",
    "- Histogram showing CO2 production by countries."
   ]
  },
  {
   "cell_type": "code",
   "execution_count": 42,
   "id": "4ffd1481",
   "metadata": {},
   "outputs": [
    {
     "data": {
      "text/plain": [
       "<AxesSubplot:ylabel='Frequency'>"
      ]
     },
     "execution_count": 42,
     "metadata": {},
     "output_type": "execute_result"
    },
    {
     "data": {
      "image/png": "[encoded data removed]",
      "text/plain": [
       "<Figure size 640x480 with 1 Axes>"
      ]
     },
     "metadata": {},
     "output_type": "display_data"
    }
   ],
   "source": [
    "data_plot.plot.hist(bins=30)"
   ]
  },
  {
   "cell_type": "markdown",
   "id": "55ceb5d4",
   "metadata": {},
   "source": [
    "From the graph above it can be seen that majority of the countries are at 0 CO2 production which is a good sign"
   ]
  },
  {
   "cell_type": "markdown",
   "id": "65c865f1",
   "metadata": {},
   "source": [
    "## Step 5: Actions"
   ]
  },
  {
   "cell_type": "markdown",
   "id": "ba773e6b",
   "metadata": {},
   "source": [
    "### Step 5.a: Actions\n",
    "- Proposed actions:"
   ]
  },
  {
   "cell_type": "markdown",
   "id": "a7c8f700",
   "metadata": {},
   "source": [
    "Over all from the 2 graphs presented it seems that the countries are making a step towards reducing CO2 production. "
   ]
  },
  {
   "cell_type": "markdown",
   "id": "42eb7cb6",
   "metadata": {},
   "source": [
    "However there are still countries that are producing a significant amount of CO2 per capital and this has to be reduced over the coming years by implimenting green energy production and making fossil free supply lines. "
   ]
  },
  {
   "cell_type": "markdown",
   "id": "e52200d1",
   "metadata": {},
   "source": [
    "### Step 5.b Measure impact\n",
    "- Measuring impact of actions"
   ]
  },
  {
   "cell_type": "markdown",
   "id": "e42ca550",
   "metadata": {},
   "source": [
    "After carefull implementation of the proposed actions, the data can then be measured over a span of 5 year or more to notice the impact. If the data shows that the implementation has not been successful additional measures are need. "
   ]
  },
  {
   "cell_type": "code",
   "execution_count": null,
   "id": "25acb4f9",
   "metadata": {},
   "outputs": [],
   "source": []
  },
  {
   "cell_type": "code",
   "execution_count": null,
   "id": "c2525814",
   "metadata": {},
   "outputs": [],
   "source": []
  }
 ],
 "metadata": {
  "kernelspec": {
   "display_name": "Python 3 (ipykernel)",
   "language": "python",
   "name": "python3"
  },
  "language_info": {
   "codemirror_mode": {
    "name": "ipython",
    "version": 3
   },
   "file_extension": ".py",
   "mimetype": "text/x-python",
   "name": "python",
   "nbconvert_exporter": "python",
   "pygments_lexer": "ipython3",
   "version": "3.9.13"
  }
 },
 "nbformat": 4,
 "nbformat_minor": 5
}
